{
 "cells": [
  {
   "cell_type": "code",
   "execution_count": 1,
   "metadata": {
    "collapsed": false
   },
   "outputs": [
    {
     "name": "stdout",
     "output_type": "stream",
     "text": [
      "All the files are downloaded\n",
      "Data extracted\n",
      "Done\n"
     ]
    }
   ],
   "source": [
    "from urllib.request import urlretrieve\n",
    "import os\n",
    "import numpy as np\n",
    "from sklearn.preprocessing import LabelBinarizer\n",
    "#from tqdm import tqdm\n",
    "from zipfile import ZipFile\n",
    "\n",
    "def download(url, file):\n",
    "    if not os.path.isfile(file):\n",
    "        print(\"Download file... \" + file + \" ...\")\n",
    "        urlretrieve(url,file)\n",
    "        print(\"File downloaded\")\n",
    "\n",
    "download('https://s3.amazonaws.com/video.udacity-data.com/topher/2016/December/584f6edd_data/data.zip','data.zip')\n",
    "#download('https://github.com/udacity/CarND-Traffic-Sign-Classifier-Project/blob/master/signnames.csv','signnames.csv')\n",
    "\n",
    "print(\"All the files are downloaded\")\n",
    "\n",
    "def uncompress_features_labels(dir,name):\n",
    "    if(os.path.isdir(name)):\n",
    "        print('Data extracted')\n",
    "    else:\n",
    "        with ZipFile(dir) as zipf:\n",
    "            zipf.extractall('data')\n",
    "uncompress_features_labels('data.zip','data')\n",
    "#uncompress_features_labels('data1.zip','data1')\n",
    "\n",
    "\n",
    "def data_Files(mypath):\n",
    "    onlyfiles = [f for f in os.listdir(mypath) if os.path.isfile(os.path.join(mypath, f))]\n",
    "    print(onlyfiles)\n",
    "\n",
    "#data_Files('datalab')\n",
    "#data_Files('signnames.csv')\n",
    "#data_Files('data1')\n",
    "#!ls\n",
    "print('Done')\n"
   ]
  },
  {
   "cell_type": "code",
   "execution_count": 2,
   "metadata": {
    "collapsed": false
   },
   "outputs": [
    {
     "name": "stdout",
     "output_type": "stream",
     "text": [
      "Done\n",
      "Done\n"
     ]
    }
   ],
   "source": [
    "import csv\n",
    "import cv2\n",
    "import numpy as np\n",
    "\n",
    "lines=[]\n",
    "with open('./data/data/driving_log.csv') as csvfile:\n",
    "    reader= csv.reader(csvfile)\n",
    "    for line in reader:\n",
    "        lines.append(line)\n",
    "\n",
    "images=[]\n",
    "measurements=[]\n",
    "\n",
    "for line in lines[1:]:\n",
    "    source_path=line[0]\n",
    "    filename=source_path.split('/')[-1]\n",
    "    current_path= './data/data/IMG/'+ filename\n",
    "    image= cv2.imread(current_path)\n",
    "    images.append(image)\n",
    "    imageAug= cv2.flip(image,1)\n",
    "    images.append(imageAug)\n",
    "    measurement= float(line[3])\n",
    "    measurements.append(measurement)\n",
    "    measurementAug= measurement * -1\n",
    "    measurements.append(measurementAug)\n",
    "    \n",
    "\n",
    "print('Done')\n",
    "X_train= np.array(images)\n",
    "\n",
    "y_train= np.array(measurements)\n",
    "\n",
    "print('Done')"
   ]
  },
  {
   "cell_type": "code",
   "execution_count": 3,
   "metadata": {
    "collapsed": false
   },
   "outputs": [
    {
     "name": "stdout",
     "output_type": "stream",
     "text": [
      "(16072, 160, 320, 3)\n"
     ]
    }
   ],
   "source": [
    "import numpy as np\n",
    "print(np.shape(X_train))"
   ]
  },
  {
   "cell_type": "code",
   "execution_count": 5,
   "metadata": {
    "collapsed": false
   },
   "outputs": [
    {
     "name": "stdout",
     "output_type": "stream",
     "text": [
      "Train on 12857 samples, validate on 3215 samples\n",
      "Epoch 1/10\n",
      "12857/12857 [==============================] - 61s - loss: 0.0157 - val_loss: 0.0107\n",
      "Epoch 2/10\n",
      "12857/12857 [==============================] - 60s - loss: 0.0106 - val_loss: 0.0104\n",
      "Epoch 3/10\n",
      "12857/12857 [==============================] - 60s - loss: 0.0102 - val_loss: 0.0110\n",
      "Epoch 4/10\n",
      "12857/12857 [==============================] - 60s - loss: 0.0099 - val_loss: 0.0122\n",
      "Epoch 5/10\n",
      "12857/12857 [==============================] - 61s - loss: 0.0095 - val_loss: 0.0101\n",
      "Epoch 6/10\n",
      "12857/12857 [==============================] - 60s - loss: 0.0091 - val_loss: 0.0114\n",
      "Epoch 7/10\n",
      "12857/12857 [==============================] - 61s - loss: 0.0087 - val_loss: 0.0105\n",
      "Epoch 8/10\n",
      "12857/12857 [==============================] - 61s - loss: 0.0082 - val_loss: 0.0106\n",
      "Epoch 9/10\n",
      "12857/12857 [==============================] - 61s - loss: 0.0077 - val_loss: 0.0106\n",
      "Epoch 10/10\n",
      "12857/12857 [==============================] - 61s - loss: 0.0070 - val_loss: 0.0112\n",
      "Done\n"
     ]
    }
   ],
   "source": [
    "from keras.models import Sequential\n",
    "from keras.layers.core import Dense, Flatten, Activation, Dropout\n",
    "from keras.layers.convolutional import Convolution2D\n",
    "from keras.layers.pooling import MaxPooling2D\n",
    "from keras.layers import Lambda, Cropping2D\n",
    "\n",
    "model=Sequential()\n",
    "\n",
    "#model.add(Flatten(input_shape=(160,320,3)))\n",
    "#model.add(Dense(1))\n",
    "\n",
    "model.add(Lambda(lambda x: (x / 255.0) - 0.5, input_shape=(160,320,3)))\n",
    "model.add(Cropping2D(cropping=((70,25),(0,0)),input_shape=(160,320,3)))\n",
    "model.add(Convolution2D(6,5,5,border_mode='valid'))\n",
    "model.add(Activation('relu'))\n",
    "model.add(Convolution2D(12,3,3,border_mode='same'))\n",
    "\n",
    "model.add(MaxPooling2D(pool_size=(2,2),strides=(2,2)))\n",
    "model.add(Activation('relu'))\n",
    "model.add(Convolution2D(24,5,5, border_mode='same'))\n",
    "\n",
    "model.add(MaxPooling2D(pool_size=(2,2),strides=(2,2)))\n",
    "model.add(Activation('relu'))\n",
    "model.add(Flatten(input_shape=(7,7,24)))\n",
    "model.add(Dense(588))\n",
    "\n",
    "model.add(Dropout(0.5))\n",
    "model.add(Activation('relu'))\n",
    "model.add(Dense(294))\n",
    "model.add(Dropout(0.5))\n",
    "model.add(Activation('relu')) \n",
    "\n",
    "model.add(Dense(100))\n",
    "model.add(Dropout(0.5))\n",
    "model.add(Activation('relu')) \n",
    "\n",
    "model.add(Dense(1))\n",
    "\n",
    "\n",
    "model.compile(loss='mse',optimizer='adam')\n",
    "model.fit(X_train,y_train,nb_epoch=10,validation_split=0.2,shuffle=True)\n",
    "model.save('model.h5')\n",
    "print('Done')"
   ]
  }
 ],
 "metadata": {
  "anaconda-cloud": {},
  "kernelspec": {
   "display_name": "Python [conda env:carnd-term1]",
   "language": "python",
   "name": "conda-env-carnd-term1-py"
  },
  "language_info": {
   "codemirror_mode": {
    "name": "ipython",
    "version": 3
   },
   "file_extension": ".py",
   "mimetype": "text/x-python",
   "name": "python",
   "nbconvert_exporter": "python",
   "pygments_lexer": "ipython3",
   "version": "3.5.2"
  }
 },
 "nbformat": 4,
 "nbformat_minor": 1
}
